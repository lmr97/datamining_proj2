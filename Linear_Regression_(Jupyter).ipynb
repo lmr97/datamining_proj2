{
 "cells": [
  {
   "cell_type": "code",
   "execution_count": 20,
   "id": "ed52e392",
   "metadata": {},
   "outputs": [],
   "source": [
    "import statsmodels.api as sm\n",
    "from statsmodels.formula.api import ols\n",
    "import pandas as pd\n",
    "import matplotlib.pyplot as plt"
   ]
  },
  {
   "cell_type": "code",
   "execution_count": 23,
   "id": "b6797cd0",
   "metadata": {},
   "outputs": [],
   "source": [
    "dataset = pd.read_csv(\"crime.csv\")"
   ]
  },
  {
   "cell_type": "markdown",
   "id": "11060232",
   "metadata": {},
   "source": [
    "# Part 1: Classical Statistics Approach\n",
    "## Question 1: Building the Model\n",
    "### Forward selection"
   ]
  },
  {
   "cell_type": "code",
   "execution_count": 4,
   "id": "e4b2e461",
   "metadata": {},
   "outputs": [],
   "source": [
    "null_lm = ols('murder_rate ~ 1', data=dataset).fit()\n",
    "\n",
    "# dictionary of simple regressions, with the key being the new variable\n",
    "single_var_models = {\n",
    "    \"poverty\": ols('murder_rate ~ poverty', data=dataset).fit(),\n",
    "    \"high_school\": ols('murder_rate ~ high_school', data=dataset).fit(),\n",
    "    \"college\": ols('murder_rate ~ college', data=dataset).fit(),\n",
    "    \"single_parent\": ols('murder_rate ~ single_parent', data=dataset).fit(),\n",
    "    \"unemployed\": ols('murder_rate ~ unemployed', data=dataset).fit(),\n",
    "    \"metropolitan\": ols('murder_rate ~ metropolitan', data=dataset).fit(),\n",
    "    \"region\": ols('murder_rate ~ region', data=dataset).fit() # baseline: north-central\n",
    "}\n"
   ]
  },
  {
   "cell_type": "code",
   "execution_count": 26,
   "id": "1715ab42",
   "metadata": {},
   "outputs": [
    {
     "name": "stdout",
     "output_type": "stream",
     "text": [
      "               sum_sq    df          F    PR(>F)\n",
      "Intercept    0.565516   1.0   0.107489  0.744447\n",
      "poverty     56.224089   1.0  10.686658  0.001999\n",
      "Residual   252.535111  48.0        NaN       NaN\n",
      "R^2 = 0.184 \n",
      "\n",
      "                 sum_sq    df          F        PR(>F)\n",
      "Intercept    145.505447   1.0  35.493964  2.909426e-07\n",
      "high_school  111.985984   1.0  27.317372  3.710570e-06\n",
      "Residual     196.773216  48.0        NaN           NaN\n",
      "R^2 = 0.567 \n",
      "\n",
      "               sum_sq    df          F    PR(>F)\n",
      "Intercept   92.095520   1.0  15.168256  0.000304\n",
      "college     17.322599   1.0   2.853055  0.097687\n",
      "Residual   291.436601  48.0        NaN       NaN\n",
      "R^2 = 0.273 \n",
      "\n",
      "                   sum_sq    df          F        PR(>F)\n",
      "Intercept       57.354449   1.0  16.474017  1.808947e-04\n",
      "single_parent  141.646736   1.0  40.685435  6.605019e-08\n",
      "Residual       167.112464  48.0        NaN           NaN\n",
      "R^2 = 0.544 \n",
      "\n",
      "                sum_sq    df         F    PR(>F)\n",
      "Intercept     2.575526   1.0  0.456709  0.502409\n",
      "unemployed   38.072110   1.0  6.751195  0.012405\n",
      "Residual    270.687090  48.0       NaN       NaN\n",
      "R^2 = 0.131 \n",
      "\n",
      "                  sum_sq    df         F    PR(>F)\n",
      "Intercept      14.999233   1.0  2.610412  0.112719\n",
      "metropolitan   32.954751   1.0  5.735325  0.020579\n",
      "Residual      275.804449  48.0       NaN       NaN\n",
      "R^2 = 0.148 \n",
      "\n",
      "               sum_sq    df          F        PR(>F)\n",
      "Intercept  200.083333   1.0  42.596178  4.686130e-08\n",
      "region      92.687389   3.0   6.577474  8.575512e-04\n",
      "Residual   216.071811  46.0        NaN           NaN\n",
      "R^2 = 0.575 \n",
      "\n"
     ]
    }
   ],
   "source": [
    "for key in single_var_models:\n",
    "    results = sm.stats.anova_lm(single_var_models[key], typ=3)\n",
    "    print(results)\n",
    "    # R^2 = (intercept + explanatory variable(s) SS) / total SS\n",
    "    # (total-error)/total -> 1 - error/total\n",
    "    r_squared = 1 - results[\"sum_sq\"][\"Residual\"]/results[\"sum_sq\"].sum()\n",
    "    print(\"R^2 =\", round(r_squared,3), \"\\n\")"
   ]
  },
  {
   "cell_type": "markdown",
   "id": "5f47e0f7",
   "metadata": {},
   "source": [
    "The highest $R^2$ value is 0.387, belonging to the `region` variable, so we'll start with that in the model (I'm going to assume, for this data, that this is better than the null model)."
   ]
  },
  {
   "cell_type": "code",
   "execution_count": 27,
   "id": "75632984",
   "metadata": {},
   "outputs": [],
   "source": [
    "present_model = single_var_models[\"region\"]"
   ]
  },
  {
   "cell_type": "markdown",
   "id": "16eafda6",
   "metadata": {},
   "source": [
    "Now let's add another variable and see how these two-varable models compare to our present model. I'll look for the largest $R^2$ value of the two-variable models, and see if that is an improvement over the single-variable one using an $F$-test."
   ]
  },
  {
   "cell_type": "code",
   "execution_count": 28,
   "id": "8ba50b0e",
   "metadata": {},
   "outputs": [],
   "source": [
    "double_var_models = {\n",
    "    \"poverty\": ols('murder_rate ~ region + poverty', data=dataset).fit(),\n",
    "    \"high_school\": ols('murder_rate ~ region + high_school', data=dataset).fit(),\n",
    "    \"college\": ols('murder_rate ~ region + college', data=dataset).fit(),\n",
    "    \"single_parent\": ols('murder_rate ~ region + single_parent', data=dataset).fit(),\n",
    "    \"unemployed\": ols('murder_rate ~ region + unemployed', data=dataset).fit(),\n",
    "    \"metropolitan\": ols('murder_rate ~ region + metropolitan', data=dataset).fit(),\n",
    "}"
   ]
  },
  {
   "cell_type": "code",
   "execution_count": 30,
   "id": "84b9c74f",
   "metadata": {},
   "outputs": [
    {
     "name": "stdout",
     "output_type": "stream",
     "text": [
      "               sum_sq    df         F    PR(>F)\n",
      "Intercept    8.422499   1.0  1.904812  0.174359\n",
      "region      53.558856   3.0  4.037581  0.012611\n",
      "poverty     17.095555   1.0  3.866290  0.055452\n",
      "Residual   198.976256  45.0       NaN       NaN\n",
      "R^2 = 0.284 \n",
      "\n",
      "                 sum_sq    df          F    PR(>F)\n",
      "Intercept     54.596671   1.0  14.065382  0.000502\n",
      "region        22.099668   3.0   1.897797  0.143538\n",
      "high_school   41.398263   1.0  10.665163  0.002092\n",
      "Residual     174.673548  45.0        NaN       NaN\n",
      "R^2 = 0.403 \n",
      "\n",
      "               sum_sq    df         F    PR(>F)\n",
      "Intercept   15.838482   1.0  3.299052  0.075985\n",
      "region      75.395240   3.0  5.234778  0.003478\n",
      "college      0.030450   1.0  0.006343  0.936876\n",
      "Residual   216.041361  45.0       NaN       NaN\n",
      "R^2 = 0.297 \n",
      "\n",
      "                   sum_sq    df          F    PR(>F)\n",
      "Intercept       31.708943   1.0  10.735430  0.002029\n",
      "region          34.197206   3.0   3.859287  0.015354\n",
      "single_parent   83.156553   1.0  28.153614  0.000003\n",
      "Residual       132.915258  45.0        NaN       NaN\n",
      "R^2 = 0.529 \n",
      "\n",
      "                sum_sq    df         F    PR(>F)\n",
      "Intercept     2.565335   1.0  0.611235  0.438417\n",
      "region       81.823533   3.0  6.498623  0.000952\n",
      "unemployed   27.208254   1.0  6.482836  0.014386\n",
      "Residual    188.863557  45.0       NaN       NaN\n",
      "R^2 = 0.371 \n",
      "\n",
      "                  sum_sq    df          F    PR(>F)\n",
      "Intercept       5.373409   1.0   1.376204  0.246921\n",
      "region        100.101292   3.0   8.545773  0.000133\n",
      "metropolitan   40.368654   1.0  10.338969  0.002413\n",
      "Residual      175.703157  45.0        NaN       NaN\n",
      "R^2 = 0.454 \n",
      "\n"
     ]
    }
   ],
   "source": [
    "for key in double_var_models:\n",
    "    results = sm.stats.anova_lm(double_var_models[key], typ=3)\n",
    "    print(results)\n",
    "    # R^2 = (intercept + explanatory variable(s) SS) / total SS\n",
    "    # (total-error)/total -> 1 - error/total\n",
    "    r_squared = 1 - results[\"sum_sq\"][\"Residual\"]/results[\"sum_sq\"].sum()\n",
    "    print(\"R^2 =\", round(r_squared,3), \"\\n\")"
   ]
  },
  {
   "cell_type": "markdown",
   "id": "9ee92f01",
   "metadata": {},
   "source": [
    "The model with `single_parent` has the best $R^2$ of all of these candidates, so we'll see if that is significantly better than the current model with an $F$-test."
   ]
  },
  {
   "cell_type": "code",
   "execution_count": 32,
   "id": "dc07a8f8",
   "metadata": {},
   "outputs": [
    {
     "name": "stdout",
     "output_type": "stream",
     "text": [
      "   df_resid         ssr  df_diff    ss_diff          F    Pr(>F)\n",
      "0      46.0  216.071811      0.0        NaN        NaN       NaN\n",
      "1      45.0  132.915258      1.0  83.156553  28.153614  0.000003\n"
     ]
    }
   ],
   "source": [
    "print(sm.stats.anova_lm(present_model, double_var_models[\"single_parent\"], test=\"F\"))"
   ]
  },
  {
   "cell_type": "markdown",
   "id": "a37c3f29",
   "metadata": {},
   "source": [
    "It's definitely significant! Let's update our current model."
   ]
  },
  {
   "cell_type": "code",
   "execution_count": 33,
   "id": "ac084605",
   "metadata": {},
   "outputs": [],
   "source": [
    "present_model = double_var_models[\"single_parent\"]"
   ]
  },
  {
   "cell_type": "markdown",
   "id": "021f9bf0",
   "metadata": {},
   "source": [
    "Now let's make some 3-variable models and compare them to our current model."
   ]
  },
  {
   "cell_type": "code",
   "execution_count": 10,
   "id": "422b3fab",
   "metadata": {},
   "outputs": [],
   "source": [
    "triple_var_models = {\n",
    "    \"poverty\": ols('murder_rate ~ region + single_parent + poverty', data=dataset).fit(),\n",
    "    \"high_school\": ols('murder_rate ~ region + single_parent + high_school', data=dataset).fit(),\n",
    "    \"college\": ols('murder_rate ~ region + single_parent + college', data=dataset).fit(),\n",
    "    \"unemployed\": ols('murder_rate ~ region + single_parent + unemployed', data=dataset).fit(),\n",
    "    \"metropolitan\": ols('murder_rate ~ region + single_parent + metropolitan', data=dataset).fit(),\n",
    "}"
   ]
  },
  {
   "cell_type": "code",
   "execution_count": 34,
   "id": "61b4eeb1",
   "metadata": {},
   "outputs": [
    {
     "name": "stdout",
     "output_type": "stream",
     "text": [
      "                   sum_sq    df          F    PR(>F)\n",
      "Intercept       32.034172   1.0  10.636520  0.002145\n",
      "region          29.023053   3.0   3.212239  0.031921\n",
      "single_parent   66.460777   1.0  22.067416  0.000026\n",
      "poverty          0.399779   1.0   0.132741  0.717352\n",
      "Residual       132.515479  44.0        NaN       NaN\n",
      "R^2 = 0.491 \n",
      "\n",
      "                   sum_sq    df          F    PR(>F)\n",
      "Intercept        3.273886   1.0   1.179137  0.283445\n",
      "region          25.521452   3.0   3.063972  0.037742\n",
      "single_parent   52.507083   1.0  18.911177  0.000080\n",
      "high_school     10.748793   1.0   3.871332  0.055441\n",
      "Residual       122.166465  44.0        NaN       NaN\n",
      "R^2 = 0.43 \n",
      "\n",
      "                   sum_sq    df          F    PR(>F)\n",
      "Intercept       30.306274   1.0  10.377223  0.002402\n",
      "region          38.114550   3.0   4.350289  0.009074\n",
      "single_parent   87.541079   1.0  29.975090  0.000002\n",
      "college          4.414976   1.0   1.511739  0.225408\n",
      "Residual       128.500281  44.0        NaN       NaN\n",
      "R^2 = 0.555 \n",
      "\n",
      "                   sum_sq    df          F    PR(>F)\n",
      "Intercept       32.077563   1.0  10.743815  0.002048\n",
      "region          31.105930   3.0   3.472794  0.023827\n",
      "single_parent   57.493757   1.0  19.256521  0.000070\n",
      "unemployed       1.545457   1.0   0.517624  0.475661\n",
      "Residual       131.369800  44.0        NaN       NaN\n",
      "R^2 = 0.482 \n",
      "\n",
      "                   sum_sq    df          F    PR(>F)\n",
      "Intercept       43.065144   1.0  17.645199  0.000128\n",
      "region          44.824357   3.0   6.122002  0.001425\n",
      "single_parent   68.316079   1.0  27.991333  0.000004\n",
      "metropolitan    25.528179   1.0  10.459730  0.002317\n",
      "Residual       107.387079  44.0        NaN       NaN\n",
      "R^2 = 0.629 \n",
      "\n"
     ]
    }
   ],
   "source": [
    "for key in triple_var_models:\n",
    "    results = sm.stats.anova_lm(triple_var_models[key], typ=3)\n",
    "    print(results)\n",
    "    # R^2 = (intercept + explanatory variable(s) SS) / total SS\n",
    "    # (total-error)/total -> 1 - error/total\n",
    "    r_squared = 1 - results[\"sum_sq\"][\"Residual\"]/results[\"sum_sq\"].sum()\n",
    "    print(\"R^2 =\", round(r_squared,3), \"\\n\")"
   ]
  },
  {
   "cell_type": "markdown",
   "id": "0460a01e",
   "metadata": {},
   "source": [
    "`metropolitan` is far and away the variable that helps the model perform better, so let's see what the $F$-test says."
   ]
  },
  {
   "cell_type": "code",
   "execution_count": 35,
   "id": "836f2472",
   "metadata": {},
   "outputs": [
    {
     "name": "stdout",
     "output_type": "stream",
     "text": [
      "   df_resid         ssr  df_diff    ss_diff         F    Pr(>F)\n",
      "0      45.0  132.915258      0.0        NaN       NaN       NaN\n",
      "1      44.0  107.387079      1.0  25.528179  10.45973  0.002317\n"
     ]
    }
   ],
   "source": [
    "print(sm.stats.anova_lm(present_model, triple_var_models[\"metropolitan\"], test=\"F\"))"
   ]
  },
  {
   "cell_type": "markdown",
   "id": "2c5fc7fb",
   "metadata": {},
   "source": [
    "Definitely better! Let's update the model."
   ]
  },
  {
   "cell_type": "code",
   "execution_count": 36,
   "id": "88889c3d",
   "metadata": {},
   "outputs": [],
   "source": [
    "present_model = triple_var_models[\"metropolitan\"]"
   ]
  },
  {
   "cell_type": "markdown",
   "id": "6690b499",
   "metadata": {},
   "source": [
    "Onto a fourth variable with the same process. I'll keep going until the $F$-test result is insignificant (in this case, that means $p > 0.05$)."
   ]
  },
  {
   "cell_type": "code",
   "execution_count": 37,
   "id": "4bcbbeec",
   "metadata": {},
   "outputs": [],
   "source": [
    "four_var_models = {\n",
    "    \"poverty\": ols('murder_rate ~ region + single_parent + metropolitan + poverty', data=dataset).fit(),\n",
    "    \"high_school\": ols('murder_rate ~ region + single_parent + metropolitan + high_school', data=dataset).fit(),\n",
    "    \"college\": ols('murder_rate ~ region + single_parent + metropolitan + college', data=dataset).fit(),\n",
    "    \"unemployed\": ols('murder_rate ~ region + single_parent + metropolitan + unemployed', data=dataset).fit(),\n",
    "}"
   ]
  },
  {
   "cell_type": "code",
   "execution_count": 38,
   "id": "e00fd35a",
   "metadata": {},
   "outputs": [
    {
     "name": "stdout",
     "output_type": "stream",
     "text": [
      "                   sum_sq    df          F    PR(>F)\n",
      "Intercept       46.545953   1.0  19.668141  0.000063\n",
      "region          35.922544   3.0   5.059729  0.004331\n",
      "single_parent   40.590960   1.0  17.151840  0.000158\n",
      "metropolitan    30.753143   1.0  12.994839  0.000807\n",
      "poverty          5.624743   1.0   2.376753  0.130481\n",
      "Residual       101.762336  43.0        NaN       NaN\n",
      "R^2 = 0.61 \n",
      "\n",
      "                   sum_sq    df          F    PR(>F)\n",
      "Intercept        0.628138   1.0   0.266566  0.608290\n",
      "region          34.740765   3.0   4.914368  0.005045\n",
      "single_parent   47.174203   1.0  20.019542  0.000055\n",
      "metropolitan    20.840934   1.0   8.844367  0.004805\n",
      "high_school      6.061548   1.0   2.572368  0.116066\n",
      "Residual       101.325531  43.0        NaN       NaN\n",
      "R^2 = 0.519 \n",
      "\n",
      "                   sum_sq    df          F    PR(>F)\n",
      "Intercept       21.164969   1.0   8.478126  0.005677\n",
      "region          36.346582   3.0   4.853159  0.005381\n",
      "single_parent   61.419508   1.0  24.603028  0.000012\n",
      "metropolitan    21.154190   1.0   8.473808  0.005688\n",
      "college          0.040987   1.0   0.016418  0.898641\n",
      "Residual       107.346092  43.0        NaN       NaN\n",
      "R^2 = 0.566 \n",
      "\n",
      "                   sum_sq    df          F    PR(>F)\n",
      "Intercept       44.781281   1.0  18.764877  0.000087\n",
      "region          41.645058   3.0   5.816898  0.001986\n",
      "single_parent   39.214072   1.0  16.432028  0.000208\n",
      "metropolitan    28.752820   1.0  12.048408  0.001193\n",
      "unemployed       4.770098   1.0   1.998833  0.164620\n",
      "Residual       102.616981  43.0        NaN       NaN\n",
      "R^2 = 0.608 \n",
      "\n"
     ]
    }
   ],
   "source": [
    "for key in four_var_models:\n",
    "    results = sm.stats.anova_lm(four_var_models[key], typ=3)\n",
    "    print(results)\n",
    "    # R^2 = (intercept + explanatory variable(s) SS) / total SS\n",
    "    # (total-error)/total -> 1 - error/total\n",
    "    r_squared = 1 - results[\"sum_sq\"][\"Residual\"]/results[\"sum_sq\"].sum()\n",
    "    print(\"R^2 =\", round(r_squared,3), \"\\n\")"
   ]
  },
  {
   "cell_type": "code",
   "execution_count": 43,
   "id": "b66c6cc1",
   "metadata": {},
   "outputs": [
    {
     "name": "stdout",
     "output_type": "stream",
     "text": [
      "   df_resid         ssr  df_diff   ss_diff         F    Pr(>F)\n",
      "0      44.0  107.387079      0.0       NaN       NaN       NaN\n",
      "1      43.0  101.762336      1.0  5.624743  2.376753  0.130481\n"
     ]
    }
   ],
   "source": [
    "print(sm.stats.anova_lm(present_model, four_var_models[\"poverty\"], test=\"F\"))"
   ]
  },
  {
   "cell_type": "markdown",
   "id": "d119141a",
   "metadata": {},
   "source": [
    "Here we have an insignificant $p$-value, so I'll stop with three explanitory variables. However, we haven't checked for interactions between terms yet. We have two quantitative variables (`single_parent` and `metropolitan`) and one categorical variable (`region`). We can compare the quantitative variables with each other with a scatterplot, and against `region` with two box plots, as follows:"
   ]
  },
  {
   "cell_type": "code",
   "execution_count": 62,
   "id": "71e542b4",
   "metadata": {},
   "outputs": [
    {
     "data": {
      "text/plain": [
       "<Axes: title={'center': 'metropolitan'}, xlabel='region'>"
      ]
     },
     "execution_count": 62,
     "metadata": {},
     "output_type": "execute_result"
    },
    {
     "data": {
      "image/png": "[encoded data removed]",
      "text/plain": [
       "<Figure size 640x480 with 1 Axes>"
      ]
     },
     "metadata": {},
     "output_type": "display_data"
    },
    {
     "data": {
      "image/png": "[encoded data removed]",
      "text/plain": [
       "<Figure size 640x480 with 1 Axes>"
      ]
     },
     "metadata": {},
     "output_type": "display_data"
    },
    {
     "data": {
      "image/png": "[encoded data removed]",
      "text/plain": [
       "<Figure size 640x480 with 1 Axes>"
      ]
     },
     "metadata": {},
     "output_type": "display_data"
    }
   ],
   "source": [
    "plt.scatter(dataset[\"metropolitan\"], dataset[\"single_parent\"])\n",
    "dataset.boxplot(column=[\"single_parent\"], by='region')\n",
    "dataset.boxplot(column=[\"metropolitan\"], by='region')"
   ]
  },
  {
   "cell_type": "markdown",
   "id": "077eaab1",
   "metadata": {},
   "source": [
    "The quantitative variables show only a mild correlation at worst, so there's not going to be any interaction between them. The boxplots show there might be some between both quantitative terms and `region`, however, so let's conduct an ANOVA test for each to make sure:"
   ]
  },
  {
   "cell_type": "code",
   "execution_count": 72,
   "id": "94f45468",
   "metadata": {},
   "outputs": [
    {
     "name": "stdout",
     "output_type": "stream",
     "text": [
      "single_parent:\n",
      "             df      sum_sq    mean_sq         F    PR(>F)\n",
      "region     3.0  142.469044  47.489681  7.046493  0.000538\n",
      "Residual  46.0  310.015956   6.739477       NaN       NaN \n",
      "\n",
      "metropolitan:\n",
      "             df        sum_sq     mean_sq         F    PR(>F)\n",
      "region     3.0    873.927247  291.309082  0.675303  0.571609\n",
      "Residual  46.0  19843.268953  431.375412       NaN       NaN\n"
     ]
    }
   ],
   "source": [
    "single_parent_lm = ols('single_parent ~ region', data=dataset).fit()\n",
    "metropolitan_lm = ols('metropolitan ~ region', data=dataset).fit()\n",
    "print(\"single_parent:\\n\",sm.stats.anova_lm(single_parent_lm), \"\\n\")\n",
    "print(\"metropolitan:\\n\", sm.stats.anova_lm(metropolitan_lm))"
   ]
  },
  {
   "cell_type": "markdown",
   "id": "23cb91e3",
   "metadata": {},
   "source": [
    "While the ANOVA test for `metropolitan` was insignificant, the one for `single_parent` was significant (very much so), indicating an interaction between the terms. So we'll add this to our model. And since that's the last thing we need to check for in our model building process, that gives us our final model. \n",
    "\n",
    "So here is the model I got, with its details below:"
   ]
  },
  {
   "cell_type": "code",
   "execution_count": 44,
   "id": "e1694070",
   "metadata": {},
   "outputs": [
    {
     "name": "stdout",
     "output_type": "stream",
     "text": [
      "                            OLS Regression Results                            \n",
      "==============================================================================\n",
      "Dep. Variable:            murder_rate   R-squared:                       0.669\n",
      "Model:                            OLS   Adj. R-squared:                  0.604\n",
      "Method:                 Least Squares   F-statistic:                     10.35\n",
      "Date:                Wed, 13 Mar 2024   Prob (F-statistic):           8.79e-08\n",
      "Time:                        17:34:06   Log-Likelihood:                -88.830\n",
      "No. Observations:                  50   AIC:                             195.7\n",
      "Df Residuals:                      41   BIC:                             212.9\n",
      "Df Model:                           8                                         \n",
      "Covariance Type:            nonrobust                                         \n",
      "=====================================================================================================\n",
      "                                        coef    std err          t      P>|t|      [0.025      0.975]\n",
      "-----------------------------------------------------------------------------------------------------\n",
      "Intercept                            -7.8949      5.064     -1.559      0.127     -18.122       2.332\n",
      "region[T.Northeast]                   3.0107      7.458      0.404      0.689     -12.050      18.072\n",
      "region[T.South]                      -3.9603      6.723     -0.589      0.559     -17.537       9.617\n",
      "region[T.West]                       -0.7110      6.023     -0.118      0.907     -12.874      11.452\n",
      "single_parent                         0.4431      0.241      1.838      0.073      -0.044       0.930\n",
      "single_parent:region[T.Northeast]    -0.2281      0.331     -0.688      0.495      -0.897       0.441\n",
      "single_parent:region[T.South]         0.1813      0.293      0.619      0.539      -0.410       0.773\n",
      "single_parent:region[T.West]          0.0213      0.278      0.076      0.939      -0.540       0.583\n",
      "metropolitan                          0.0384      0.012      3.267      0.002       0.015       0.062\n",
      "==============================================================================\n",
      "Omnibus:                        2.222   Durbin-Watson:                   1.698\n",
      "Prob(Omnibus):                  0.329   Jarque-Bera (JB):                1.420\n",
      "Skew:                          -0.384   Prob(JB):                        0.492\n",
      "Kurtosis:                       3.305   Cond. No.                     3.70e+03\n",
      "==============================================================================\n",
      "\n",
      "Notes:\n",
      "[1] Standard Errors assume that the covariance matrix of the errors is correctly specified.\n",
      "[2] The condition number is large, 3.7e+03. This might indicate that there are\n",
      "strong multicollinearity or other numerical problems.\n"
     ]
    }
   ],
   "source": [
    "final_model = ols('murder_rate ~ region + single_parent + metropolitan + (single_parent * region)', data=dataset).fit()\n",
    "print(final_model.summary())"
   ]
  },
  {
   "cell_type": "markdown",
   "id": "5bb4240c",
   "metadata": {},
   "source": [
    "This model leaves something to be desired, however. Firstly, it only has a middling $R^2$ value at best ($R^2 = 0.669$). Secondly, region is are geographical, so the model is not as helpful in determining what the driving socio-economic factors for the murder rate of a given state are in general. To get a more helpful model for this, we should pursue a backwards selction strategy, but with `region` excluded from the start. \n",
    "\n",
    "While it's doubtful that the model would produce a better $R^2$ value, let's fit a model without `region` and see:"
   ]
  },
  {
   "cell_type": "code",
   "execution_count": 43,
   "id": "87a4080b",
   "metadata": {},
   "outputs": [
    {
     "name": "stdout",
     "output_type": "stream",
     "text": [
      "Model R^2: 0.576\n"
     ]
    }
   ],
   "source": [
    "model2 = ols('murder_rate ~ poverty + high_school + college + single_parent + unemployed + metropolitan', data=dataset).fit()\n",
    "print(\"Model R^2:\", round(model2.rsquared,3))"
   ]
  },
  {
   "cell_type": "markdown",
   "id": "3b65c8ac",
   "metadata": {},
   "source": [
    "This $R^2$ is not only about 10% worse than before, but it's below $0.6$, rendering it essentially useless, especially since eliminating variables would decrease this value even further by definition. Unless, of course, it's in the range of useability for the relevant discipline; perhaps it is, but I don't have the domain knowledge to say. But from a general statistical perspective, a model with an $R^2$ value like that isn't worth keeping. So I'll stick with the model we came to earlier (`final_model`)."
   ]
  },
  {
   "cell_type": "markdown",
   "id": "6cfe24b1",
   "metadata": {},
   "source": [
    "## Part 2: Assumption Checking\n",
    "Now that we have out model, we can run diagnostics on it to see how appropriate a linear model is for this data to begin with. As with any statistical test, we assume this data is a representative sample; seeing as all 50 states are in the set, that is definitely satisfied. Here are the assumptions about the data that a linear model specifically makes:\n",
    "1. Each datapoint is independent of all others.\n",
    "2. The response variable ($Y$ data) is normally distributed about the regression line/surface.\n",
    "3. This normal distribution has a mean of 0.\n",
    "4. This normal distribution has a constant variance along the regression line/surface (i.e. it is <i>homoskedastic</i>).\n",
    "5. The response variable is linearly related to the explanatory variables. \n",
    "\n",
    "Let's see how these hold up with our data and model."
   ]
  },
  {
   "cell_type": "markdown",
   "id": "03688f09",
   "metadata": {},
   "source": [
    "### 1. Is each data point independent of all others?\n",
    "Simply looking at the statistics, the significance of the `region` variable suggests that the datapoints (individual states) are <i>not</i> statistically independent, since it implies that states can be grouped into meaningful, distinguishing areas with respect to murder rate. This means that if, for instance, I knew the murder rate in North Carolina, and know it's in the same region as South Carolina, that tells me something about South Carolina's murder rate. So I would say the assumption is <u>violated</u>, but we'll proceed with the analysis regardless. "
   ]
  },
  {
   "cell_type": "markdown",
   "id": "89eb13a6",
   "metadata": {},
   "source": [
    "## 2. Is the response variable normally distributed about the regression surface?\n",
    "There are several ways to determine this, but I'll use a Q-Q plot here. Below is the Q-Q plot for our final model:"
   ]
  },
  {
   "cell_type": "code",
   "execution_count": 53,
   "id": "3b6db613",
   "metadata": {},
   "outputs": [
    {
     "data": {
      "image/png": "[encoded data removed]",
      "text/plain": [
       "<Figure size 640x480 with 1 Axes>"
      ]
     },
     "metadata": {},
     "output_type": "display_data"
    }
   ],
   "source": [
    "sm.qqplot(final_model.resid, line=\"45\")\n",
    "plt.show()"
   ]
  },
  {
   "cell_type": "markdown",
   "id": "e9b6606d",
   "metadata": {},
   "source": [
    "If the dataset were perfectly normally distributed, the points would be on the red line. They clearly deviate a bit, but only the right-most two points, and the left-most point are way off. So I'd say that this assumption is basically <u>satisfied</u>. "
   ]
  },
  {
   "cell_type": "markdown",
   "id": "6c2f2f3e",
   "metadata": {},
   "source": [
    "### 3, 4, and 5: Is it the <i>right</i> normal distribution?\n",
    "\n",
    "We can analyze these three assumptions with the following plot of the residuals."
   ]
  },
  {
   "cell_type": "code",
   "execution_count": 79,
   "id": "e3d8d8a3",
   "metadata": {},
   "outputs": [
    {
     "data": {
      "text/plain": [
       "[<matplotlib.lines.Line2D at 0x12ce9b070>]"
      ]
     },
     "execution_count": 79,
     "metadata": {},
     "output_type": "execute_result"
    },
    {
     "data": {
      "image/png": "[encoded data removed]",
      "text/plain": [
       "<Figure size 640x480 with 1 Axes>"
      ]
     },
     "metadata": {},
     "output_type": "display_data"
    }
   ],
   "source": [
    "plt.scatter(range(50),final_model.resid)\n",
    "plt.plot([0,50],[0,0], \"k-\")  # adds horizontal line at y=0"
   ]
  },
  {
   "cell_type": "markdown",
   "id": "d800d264",
   "metadata": {},
   "source": [
    "#### 3. Is the distribution entered at zero?\n",
    "For this, we need only check to see if the points (residuals) are balanced on either side of the zero-line, which they are, so <u>assumption 3 is satisfied</u>. \n",
    "\n",
    "#### 4. Is the distribution homoskedastic?\n",
    "For this, we check if the residuals are distributed around the zero line at about the same width, and I would say that they are with a couple outliers. But let's run a test to make sure: "
   ]
  },
  {
   "cell_type": "code",
   "execution_count": 90,
   "id": "19aeffc2",
   "metadata": {},
   "outputs": [
    {
     "name": "stdout",
     "output_type": "stream",
     "text": [
      "p-value: 0.246\n"
     ]
    }
   ],
   "source": [
    "# the Breusch-Pagan test for heteroskedacity\n",
    "test_results = sm.stats.diagnostic.het_breuschpagan(final_model.resid, final_model.model.exog)\n",
    "print(\"p-value:\", round(test_results[1],3))  # second value is p-value according to docs"
   ]
  },
  {
   "cell_type": "markdown",
   "id": "da07c68d",
   "metadata": {},
   "source": [
    "The p-value is large, so the data is probably homoskedastic. So, <u>assumption 4 is satisfied</u>. "
   ]
  },
  {
   "cell_type": "markdown",
   "id": "e9593e98",
   "metadata": {},
   "source": [
    "\n",
    "#### 5. Are the variables linearly related?\n",
    "Seeing as the residuals don't drift off or spread from the zero-line when we are fitting the data with a hyperplane, then that linear relationship holds, and <u>assumption 5 is satisfied</u>.\n",
    "\n",
    "### Model Diagnostics Conclusion\n",
    "All assumptions seem reasonably well satisfied, so we have a model that is appropriate for the data, as well as one from which we can make valid inferences. "
   ]
  },
  {
   "cell_type": "markdown",
   "id": "3bac6bb1-fd90-4c0b-ad80-252bf8a3b75a",
   "metadata": {},
   "source": [
    "# Machine learning approach"
   ]
  },
  {
   "cell_type": "code",
   "execution_count": 2,
   "id": "3d9c60d9-16eb-4909-ae6c-4b7e228211de",
   "metadata": {},
   "outputs": [],
   "source": [
    "import numpy as np\n",
    "from sklearn.model_selection import train_test_split\n",
    "from sklearn.linear_model import LinearRegression\n",
    "from sklearn.metrics import mean_squared_error, r2_score\n",
    "import scipy.stats as stats"
   ]
  },
  {
   "cell_type": "code",
   "execution_count": 5,
   "id": "7d821ff2-d8cb-48d8-bb51-67e37a1b55d0",
   "metadata": {},
   "outputs": [
    {
     "data": {
      "text/html": [
       "<div>\n",
       "<style scoped>\n",
       "    .dataframe tbody tr th:only-of-type {\n",
       "        vertical-align: middle;\n",
       "    }\n",
       "\n",
       "    .dataframe tbody tr th {\n",
       "        vertical-align: top;\n",
       "    }\n",
       "\n",
       "    .dataframe thead th {\n",
       "        text-align: right;\n",
       "    }\n",
       "</style>\n",
       "<table border=\"1\" class=\"dataframe\">\n",
       "  <thead>\n",
       "    <tr style=\"text-align: right;\">\n",
       "      <th></th>\n",
       "      <th>state</th>\n",
       "      <th>murder_rate</th>\n",
       "      <th>poverty</th>\n",
       "      <th>high_school</th>\n",
       "      <th>college</th>\n",
       "      <th>single_parent</th>\n",
       "      <th>unemployed</th>\n",
       "      <th>metropolitan</th>\n",
       "      <th>region</th>\n",
       "    </tr>\n",
       "  </thead>\n",
       "  <tbody>\n",
       "    <tr>\n",
       "      <th>0</th>\n",
       "      <td>Alabama</td>\n",
       "      <td>7.4</td>\n",
       "      <td>14.7</td>\n",
       "      <td>77.5</td>\n",
       "      <td>20.4</td>\n",
       "      <td>26.0</td>\n",
       "      <td>4.6</td>\n",
       "      <td>70.2</td>\n",
       "      <td>South</td>\n",
       "    </tr>\n",
       "    <tr>\n",
       "      <th>1</th>\n",
       "      <td>Alaska</td>\n",
       "      <td>4.3</td>\n",
       "      <td>8.4</td>\n",
       "      <td>90.4</td>\n",
       "      <td>28.1</td>\n",
       "      <td>23.2</td>\n",
       "      <td>6.6</td>\n",
       "      <td>41.6</td>\n",
       "      <td>West</td>\n",
       "    </tr>\n",
       "    <tr>\n",
       "      <th>2</th>\n",
       "      <td>Arizona</td>\n",
       "      <td>7.0</td>\n",
       "      <td>13.5</td>\n",
       "      <td>85.1</td>\n",
       "      <td>24.6</td>\n",
       "      <td>23.5</td>\n",
       "      <td>3.9</td>\n",
       "      <td>87.9</td>\n",
       "      <td>West</td>\n",
       "    </tr>\n",
       "    <tr>\n",
       "      <th>3</th>\n",
       "      <td>Arkansas</td>\n",
       "      <td>6.3</td>\n",
       "      <td>15.8</td>\n",
       "      <td>81.7</td>\n",
       "      <td>18.4</td>\n",
       "      <td>24.7</td>\n",
       "      <td>4.4</td>\n",
       "      <td>49.0</td>\n",
       "      <td>South</td>\n",
       "    </tr>\n",
       "    <tr>\n",
       "      <th>4</th>\n",
       "      <td>California</td>\n",
       "      <td>6.1</td>\n",
       "      <td>14.0</td>\n",
       "      <td>81.2</td>\n",
       "      <td>27.5</td>\n",
       "      <td>21.8</td>\n",
       "      <td>4.9</td>\n",
       "      <td>96.7</td>\n",
       "      <td>West</td>\n",
       "    </tr>\n",
       "  </tbody>\n",
       "</table>\n",
       "</div>"
      ],
      "text/plain": [
       "        state  murder_rate  poverty  high_school  college  single_parent  \\\n",
       "0     Alabama          7.4     14.7         77.5     20.4           26.0   \n",
       "1      Alaska          4.3      8.4         90.4     28.1           23.2   \n",
       "2     Arizona          7.0     13.5         85.1     24.6           23.5   \n",
       "3    Arkansas          6.3     15.8         81.7     18.4           24.7   \n",
       "4  California          6.1     14.0         81.2     27.5           21.8   \n",
       "\n",
       "   unemployed  metropolitan region  \n",
       "0         4.6          70.2  South  \n",
       "1         6.6          41.6   West  \n",
       "2         3.9          87.9   West  \n",
       "3         4.4          49.0  South  \n",
       "4         4.9          96.7   West  "
      ]
     },
     "execution_count": 5,
     "metadata": {},
     "output_type": "execute_result"
    }
   ],
   "source": [
    "crimeData = pd.read_csv('crime.csv')\n",
    "crimeData.head()"
   ]
  },
  {
   "cell_type": "markdown",
   "id": "a5e51142-1f96-4f7b-823a-5cd39a02458e",
   "metadata": {},
   "source": [
    "Since we want the murder rate to be the target variable, the rest will be the predictors."
   ]
  },
  {
   "cell_type": "code",
   "execution_count": 8,
   "id": "828b1bdd-ce10-4cce-852c-76629f8f3a90",
   "metadata": {},
   "outputs": [],
   "source": [
    "x = crimeData.drop('murder_rate', axis=1)  # Drop murder rate from the table, and set that to the x value.\n",
    "y = crimeData['murder_rate']               # y should be the murder rate."
   ]
  },
  {
   "cell_type": "markdown",
   "id": "ceedc459-785d-4874-a960-88c6cc764107",
   "metadata": {},
   "source": [
    "Next, we need to split the data into test and train data for each of the predictors. For the first predictor, we will just use poverty.  \n",
    "The split should be 80% training, and 20% test."
   ]
  },
  {
   "cell_type": "code",
   "execution_count": 9,
   "id": "7877856a-6faa-4a47-91b7-653173f6caef",
   "metadata": {},
   "outputs": [],
   "source": [
    "# The test size is set to 20%, and the training size is implied 80%.\n",
    "# for the random state I just chose the CRN for the class.\n",
    "xTrain, xTest, yTrain, yTest = train_test_split(x[['poverty']], y, test_size=0.2, random_state=36237)"
   ]
  },
  {
   "cell_type": "markdown",
   "id": "cdc4ff5c-4bb3-46d0-869e-9c1ff4bf9885",
   "metadata": {},
   "source": [
    "Now the model needs to be trained and then evaluated on the test data."
   ]
  },
  {
   "cell_type": "code",
   "execution_count": 10,
   "id": "860c324c-3d2b-436e-aa0e-d0c2787f4fa7",
   "metadata": {},
   "outputs": [],
   "source": [
    "lrModel = LinearRegression()  # This comes from the sklearn.linear_model library.\n",
    "lrModel.fit(xTrain, yTrain)\n",
    "\n",
    "yPredict = lrModel.predict(xTest)\n",
    "mse = mean_squared_error(yTest, yPredict)\n",
    "r2 = r2_score(yTest, yPredict)"
   ]
  },
  {
   "cell_type": "markdown",
   "id": "26651923-563e-45af-b73c-c5d7e1f2bf99",
   "metadata": {},
   "source": [
    "Now we show the performance."
   ]
  },
  {
   "cell_type": "code",
   "execution_count": 17,
   "id": "546b1fa3-c981-4b67-a6e0-36495b0527b4",
   "metadata": {},
   "outputs": [
    {
     "name": "stdout",
     "output_type": "stream",
     "text": [
      "Test MSE: 5.2461611354400635\n",
      "Test  R2: -0.17637481734686156\n"
     ]
    }
   ],
   "source": [
    "print(f'Test MSE: {mse}')\n",
    "print(f'Test  R2: {r2}')"
   ]
  },
  {
   "cell_type": "code",
   "execution_count": 18,
   "id": "95141259-230f-437a-a31a-cb9daaf4a184",
   "metadata": {},
   "outputs": [
    {
     "data": {
      "image/png": "[encoded data removed]",
      "text/plain": [
       "<Figure size 800x600 with 1 Axes>"
      ]
     },
     "metadata": {},
     "output_type": "display_data"
    }
   ],
   "source": [
    "plt.figure(figsize=(8, 6))\n",
    "plt.scatter(crimeData['poverty'], crimeData['murder_rate'])\n",
    "plt.plot(xTest['poverty'], yPredict, color='blue', label='Regression Line')\n",
    "plt.xlabel('Poverty')\n",
    "plt.ylabel('Murder Rate')\n",
    "plt.show()"
   ]
  },
  {
   "cell_type": "code",
   "execution_count": null,
   "id": "64757d51-aeb7-44cf-b10c-fc36fda2e722",
   "metadata": {},
   "outputs": [],
   "source": []
  }
 ],
 "metadata": {
  "kernelspec": {
   "display_name": "Python 3 (ipykernel)",
   "language": "python",
   "name": "python3"
  },
  "language_info": {
   "codemirror_mode": {
    "name": "ipython",
    "version": 3
   },
   "file_extension": ".py",
   "mimetype": "text/x-python",
   "name": "python",
   "nbconvert_exporter": "python",
   "pygments_lexer": "ipython3",
   "version": "3.11.5"
  }
 },
 "nbformat": 4,
 "nbformat_minor": 5
}
