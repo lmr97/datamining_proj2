{
 "cells": [
  {
   "cell_type": "code",
   "execution_count": 2,
   "id": "ed52e392",
   "metadata": {},
   "outputs": [],
   "source": [
    "import statsmodels.api as sm\n",
    "from statsmodels.formula.api import ols\n",
    "#from sklearn import linear_model as lm\n",
    "import pandas as pd\n",
    "import matplotlib.pyplot as plt"
   ]
  },
  {
   "cell_type": "code",
   "execution_count": 3,
   "id": "b6797cd0",
   "metadata": {},
   "outputs": [],
   "source": [
    "dataset = pd.read_csv(\"crime.csv\")"
   ]
  },
  {
   "cell_type": "markdown",
   "id": "11060232",
   "metadata": {},
   "source": [
    "# Classical statistics approach\n",
    "### Forward selection"
   ]
  },
  {
   "cell_type": "code",
   "execution_count": 30,
   "id": "e4b2e461",
   "metadata": {},
   "outputs": [],
   "source": [
    "null_lm = ols('murder_rate ~ 1', data=dataset).fit()\n",
    "\n",
    "# dictionary of simple regressions\n",
    "single_var_models = {\n",
    "    \"poverty\": ols('murder_rate ~ poverty', data=dataset).fit(),\n",
    "    \"high_school\": ols('murder_rate ~ high_school', data=dataset).fit(),\n",
    "    \"college\": ols('murder_rate ~ college', data=dataset).fit(),\n",
    "    \"single_parent\": ols('murder_rate ~ single_parent', data=dataset).fit(),\n",
    "    \"unemployed\": ols('murder_rate ~ unemployed', data=dataset).fit(),\n",
    "    \"metropolitan\": ols('murder_rate ~ metropolitan', data=dataset).fit(),\n",
    "    \"region\": ols('murder_rate ~ region', data=dataset).fit() # baseline: north-central\n",
    "}\n"
   ]
  },
  {
   "cell_type": "code",
   "execution_count": 32,
   "id": "1715ab42",
   "metadata": {},
   "outputs": [
    {
     "name": "stdout",
     "output_type": "stream",
     "text": [
      "               sum_sq    df          F    PR(>F)\n",
      "Intercept    0.565516   1.0   0.107489  0.744447\n",
      "poverty     56.224089   1.0  10.686658  0.001999\n",
      "Residual   252.535111  48.0        NaN       NaN\n",
      "R^2 = 0.182 \n",
      "\n",
      "                 sum_sq    df          F        PR(>F)\n",
      "Intercept    145.505447   1.0  35.493964  2.909426e-07\n",
      "high_school  111.985984   1.0  27.317372  3.710570e-06\n",
      "Residual     196.773216  48.0        NaN           NaN\n",
      "R^2 = 0.247 \n",
      "\n",
      "               sum_sq    df          F    PR(>F)\n",
      "Intercept   92.095520   1.0  15.168256  0.000304\n",
      "college     17.322599   1.0   2.853055  0.097687\n",
      "Residual   291.436601  48.0        NaN       NaN\n",
      "R^2 = 0.043 \n",
      "\n",
      "                   sum_sq    df          F        PR(>F)\n",
      "Intercept       57.354449   1.0  16.474017  1.808947e-04\n",
      "single_parent  141.646736   1.0  40.685435  6.605019e-08\n",
      "Residual       167.112464  48.0        NaN           NaN\n",
      "R^2 = 0.387 \n",
      "\n",
      "                sum_sq    df         F    PR(>F)\n",
      "Intercept     2.575526   1.0  0.456709  0.502409\n",
      "unemployed   38.072110   1.0  6.751195  0.012405\n",
      "Residual    270.687090  48.0       NaN       NaN\n",
      "R^2 = 0.122 \n",
      "\n",
      "                  sum_sq    df         F    PR(>F)\n",
      "Intercept      14.999233   1.0  2.610412  0.112719\n",
      "metropolitan   32.954751   1.0  5.735325  0.020579\n",
      "Residual      275.804449  48.0       NaN       NaN\n",
      "R^2 = 0.102 \n",
      "\n",
      "               sum_sq    df          F        PR(>F)\n",
      "Intercept  200.083333   1.0  42.596178  4.686130e-08\n",
      "region      92.687389   3.0   6.577474  8.575512e-04\n",
      "Residual   216.071811  46.0        NaN           NaN\n",
      "R^2 = 0.182 \n",
      "\n"
     ]
    }
   ],
   "source": [
    "\n",
    "for key in single_var_models:\n",
    "    results = sm.stats.anova_lm(single_var_models[key], typ=3)\n",
    "    print(results)\n",
    "    # R^2 = regresion SS (intercept + explanatory variable SS) / total SS\n",
    "    print(\"R^2 =\", round((results[\"sum_sq\"][1]/results[\"sum_sq\"].sum()),3), \"\\n\")"
   ]
  },
  {
   "cell_type": "markdown",
   "id": "5f47e0f7",
   "metadata": {},
   "source": [
    "The highest $R^2$ value is 0.387, belonging to the `single_parent` variable, so we'll start with that in the model (I'm going to assume, for this data, that this is better than the null model)."
   ]
  },
  {
   "cell_type": "code",
   "execution_count": 37,
   "metadata": {},
   "outputs": [],
   "source": [
    "present_model = single_var_models[\"single_parent\"]"
   ]
  },
  {
   "cell_type": "markdown",
   "id": "16eafda6",
   "metadata": {},
   "source": [
    "Now let's add another variable and see how these two-varable models compare to our present model. I'll use $F$-tests to measure the improvement."
   ]
  },
  {
   "cell_type": "code",
   "execution_count": 40,
   "id": "8ba50b0e",
   "metadata": {},
   "outputs": [],
   "source": [
    "double_var_models = {\n",
    "    \"poverty\": ols('murder_rate ~ single_parent + poverty', data=dataset).fit(),\n",
    "    \"high_school\": ols('murder_rate ~ single_parent + high_school', data=dataset).fit(),\n",
    "    \"college\": ols('murder_rate ~ single_parent + college', data=dataset).fit(),\n",
    "    \"unemployed\": ols('murder_rate ~ single_parent + unemployed', data=dataset).fit(),\n",
    "    \"metropolitan\": ols('murder_rate ~ single_parent + metropolitan', data=dataset).fit(),\n",
    "    \"region\": ols('murder_rate ~ single_parent + region', data=dataset).fit() # baseline: north-central\n",
    "}"
   ]
  },
  {
   "cell_type": "code",
   "execution_count": 46,
   "id": "dc07a8f8",
   "metadata": {},
   "outputs": [
    {
     "name": "stdout",
     "output_type": "stream",
     "text": [
      "poverty\n",
      "   df_resid         ssr  df_diff   ss_diff         F    Pr(>F)\n",
      "0      48.0  167.112464      0.0       NaN       NaN       NaN\n",
      "1      47.0  161.538532      1.0  5.573931  1.621748  0.209111 \n",
      "\n",
      "high_school\n",
      "   df_resid         ssr  df_diff    ss_diff         F    Pr(>F)\n",
      "0      48.0  167.112464      0.0        NaN       NaN       NaN\n",
      "1      47.0  147.687917      1.0  19.424547  6.181641  0.016519 \n",
      "\n",
      "college\n",
      "   df_resid         ssr  df_diff   ss_diff         F    Pr(>F)\n",
      "0      48.0  167.112464      0.0       NaN       NaN       NaN\n",
      "1      47.0  166.614832      1.0  0.497632  0.140376  0.709593 \n",
      "\n",
      "unemployed\n",
      "   df_resid         ssr  df_diff   ss_diff         F    Pr(>F)\n",
      "0      48.0  167.112464      0.0       NaN       NaN       NaN\n",
      "1      47.0  162.475730      1.0  4.636733  1.341286  0.252659 \n",
      "\n",
      "metropolitan\n",
      "   df_resid         ssr  df_diff    ss_diff         F    Pr(>F)\n",
      "0      48.0  167.112464      0.0        NaN       NaN       NaN\n",
      "1      47.0  152.211436      1.0  14.901028  4.601154  0.037149 \n",
      "\n",
      "region\n",
      "   df_resid         ssr  df_diff    ss_diff         F    Pr(>F)\n",
      "0      48.0  167.112464      0.0        NaN       NaN       NaN\n",
      "1      45.0  132.915258      3.0  34.197206  3.859287  0.015354 \n",
      "\n"
     ]
    }
   ],
   "source": [
    "\n",
    "for key in double_var_models:\n",
    "    comp_results = sm.stats.anova_lm(present_model, double_var_models[key], test=\"F\")\n",
    "    print(key)\n",
    "    print(comp_results, \"\\n\")\n",
    "\n"
   ]
  },
  {
   "cell_type": "markdown",
   "id": "a37c3f29",
   "metadata": {},
   "source": []
  },
  {
   "cell_type": "code",
   "execution_count": null,
   "id": "ac084605",
   "metadata": {},
   "outputs": [],
   "source": []
  }
 ],
 "metadata": {
  "kernelspec": {
   "display_name": "Python 3 (ipykernel)",
   "language": "python",
   "name": "python3"
  },
  "language_info": {
   "codemirror_mode": {
    "name": "ipython",
    "version": 3
   },
   "file_extension": ".py",
   "mimetype": "text/x-python",
   "name": "python",
   "nbconvert_exporter": "python",
   "pygments_lexer": "ipython3",
   "version": "3.8.9"
  }
 },
 "nbformat": 4,
 "nbformat_minor": 5
}
