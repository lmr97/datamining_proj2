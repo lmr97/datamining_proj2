{
 "cells": [
  {
   "cell_type": "code",
   "execution_count": 2,
   "id": "ed52e392",
   "metadata": {},
   "outputs": [],
   "source": [
    "import statsmodels.api as sm\n",
    "from statsmodels.formula.api import ols\n",
    "#from sklearn import linear_model as lm\n",
    "import pandas as pd\n",
    "import matplotlib.pyplot as plt"
   ]
  },
  {
   "cell_type": "code",
   "execution_count": 3,
   "id": "b6797cd0",
   "metadata": {},
   "outputs": [],
   "source": [
    "dataset = pd.read_csv(\"crime.csv\")"
   ]
  },
  {
   "cell_type": "markdown",
   "id": "11060232",
   "metadata": {},
   "source": [
    "# Classical statistics approach\n",
    "### Forward selection"
   ]
  },
  {
   "cell_type": "code",
   "execution_count": 4,
   "id": "e4b2e461",
   "metadata": {},
   "outputs": [],
   "source": [
    "null_lm = ols('murder_rate ~ 1', data=dataset).fit()\n",
    "\n",
    "# dictionary of simple regressions\n",
    "single_var_models = {\n",
    "    \"poverty\": ols('murder_rate ~ poverty', data=dataset).fit(),\n",
    "    \"high_school\": ols('murder_rate ~ high_school', data=dataset).fit(),\n",
    "    \"college\": ols('murder_rate ~ college', data=dataset).fit(),\n",
    "    \"single_parent\": ols('murder_rate ~ single_parent', data=dataset).fit(),\n",
    "    \"unemployed\": ols('murder_rate ~ unemployed', data=dataset).fit(),\n",
    "    \"metropolitan\": ols('murder_rate ~ metropolitan', data=dataset).fit(),\n",
    "    \"region\": ols('murder_rate ~ region', data=dataset).fit() # baseline: north-central\n",
    "}\n"
   ]
  },
  {
   "cell_type": "code",
   "execution_count": 26,
   "id": "1715ab42",
   "metadata": {},
   "outputs": [
    {
     "name": "stdout",
     "output_type": "stream",
     "text": [
      "               sum_sq    df          F    PR(>F)\n",
      "Intercept    0.565516   1.0   0.107489  0.744447\n",
      "poverty     56.224089   1.0  10.686658  0.001999\n",
      "Residual   252.535111  48.0        NaN       NaN\n",
      "R^2 = 0.184 \n",
      "\n",
      "                 sum_sq    df          F        PR(>F)\n",
      "Intercept    145.505447   1.0  35.493964  2.909426e-07\n",
      "high_school  111.985984   1.0  27.317372  3.710570e-06\n",
      "Residual     196.773216  48.0        NaN           NaN\n",
      "R^2 = 0.567 \n",
      "\n",
      "               sum_sq    df          F    PR(>F)\n",
      "Intercept   92.095520   1.0  15.168256  0.000304\n",
      "college     17.322599   1.0   2.853055  0.097687\n",
      "Residual   291.436601  48.0        NaN       NaN\n",
      "R^2 = 0.273 \n",
      "\n",
      "                   sum_sq    df          F        PR(>F)\n",
      "Intercept       57.354449   1.0  16.474017  1.808947e-04\n",
      "single_parent  141.646736   1.0  40.685435  6.605019e-08\n",
      "Residual       167.112464  48.0        NaN           NaN\n",
      "R^2 = 0.544 \n",
      "\n",
      "                sum_sq    df         F    PR(>F)\n",
      "Intercept     2.575526   1.0  0.456709  0.502409\n",
      "unemployed   38.072110   1.0  6.751195  0.012405\n",
      "Residual    270.687090  48.0       NaN       NaN\n",
      "R^2 = 0.131 \n",
      "\n",
      "                  sum_sq    df         F    PR(>F)\n",
      "Intercept      14.999233   1.0  2.610412  0.112719\n",
      "metropolitan   32.954751   1.0  5.735325  0.020579\n",
      "Residual      275.804449  48.0       NaN       NaN\n",
      "R^2 = 0.148 \n",
      "\n",
      "               sum_sq    df          F        PR(>F)\n",
      "Intercept  200.083333   1.0  42.596178  4.686130e-08\n",
      "region      92.687389   3.0   6.577474  8.575512e-04\n",
      "Residual   216.071811  46.0        NaN           NaN\n",
      "R^2 = 0.575 \n",
      "\n"
     ]
    }
   ],
   "source": [
    "for key in single_var_models:\n",
    "    results = sm.stats.anova_lm(single_var_models[key], typ=3)\n",
    "    print(results)\n",
    "    # R^2 = (intercept + explanatory variable(s) SS) / total SS\n",
    "    # (total-error)/total -> 1 - error/total\n",
    "    r_squared = 1 - results[\"sum_sq\"][\"Residual\"]/results[\"sum_sq\"].sum()\n",
    "    print(\"R^2 =\", round(r_squared,3), \"\\n\")"
   ]
  },
  {
   "cell_type": "markdown",
   "id": "5f47e0f7",
   "metadata": {},
   "source": [
    "The highest $R^2$ value is 0.387, belonging to the `region` variable, so we'll start with that in the model (I'm going to assume, for this data, that this is better than the null model)."
   ]
  },
  {
   "cell_type": "code",
   "execution_count": 27,
   "metadata": {},
   "outputs": [],
   "source": [
    "present_model = single_var_models[\"region\"]"
   ]
  },
  {
   "cell_type": "markdown",
   "id": "16eafda6",
   "metadata": {},
   "source": [
    "Now let's add another variable and see how these two-varable models compare to our present model. I'll look for the largest $R^2$ value of the two-variable models, and see if that is an improvement over the single-variable one using an $F$-test."
   ]
  },
  {
   "cell_type": "code",
   "execution_count": 28,
   "id": "8ba50b0e",
   "metadata": {},
   "outputs": [],
   "source": [
    "double_var_models = {\n",
    "    \"poverty\": ols('murder_rate ~ region + poverty', data=dataset).fit(),\n",
    "    \"high_school\": ols('murder_rate ~ region + high_school', data=dataset).fit(),\n",
    "    \"college\": ols('murder_rate ~ region + college', data=dataset).fit(),\n",
    "    \"single_parent\": ols('murder_rate ~ region + single_parent', data=dataset).fit(),\n",
    "    \"unemployed\": ols('murder_rate ~ region + unemployed', data=dataset).fit(),\n",
    "    \"metropolitan\": ols('murder_rate ~ region + metropolitan', data=dataset).fit(),\n",
    "}"
   ]
  },
  {
   "cell_type": "code",
   "execution_count": 30,
   "id": "84b9c74f",
   "metadata": {},
   "outputs": [
    {
     "name": "stdout",
     "output_type": "stream",
     "text": [
      "               sum_sq    df         F    PR(>F)\n",
      "Intercept    8.422499   1.0  1.904812  0.174359\n",
      "region      53.558856   3.0  4.037581  0.012611\n",
      "poverty     17.095555   1.0  3.866290  0.055452\n",
      "Residual   198.976256  45.0       NaN       NaN\n",
      "R^2 = 0.284 \n",
      "\n",
      "                 sum_sq    df          F    PR(>F)\n",
      "Intercept     54.596671   1.0  14.065382  0.000502\n",
      "region        22.099668   3.0   1.897797  0.143538\n",
      "high_school   41.398263   1.0  10.665163  0.002092\n",
      "Residual     174.673548  45.0        NaN       NaN\n",
      "R^2 = 0.403 \n",
      "\n",
      "               sum_sq    df         F    PR(>F)\n",
      "Intercept   15.838482   1.0  3.299052  0.075985\n",
      "region      75.395240   3.0  5.234778  0.003478\n",
      "college      0.030450   1.0  0.006343  0.936876\n",
      "Residual   216.041361  45.0       NaN       NaN\n",
      "R^2 = 0.297 \n",
      "\n",
      "                   sum_sq    df          F    PR(>F)\n",
      "Intercept       31.708943   1.0  10.735430  0.002029\n",
      "region          34.197206   3.0   3.859287  0.015354\n",
      "single_parent   83.156553   1.0  28.153614  0.000003\n",
      "Residual       132.915258  45.0        NaN       NaN\n",
      "R^2 = 0.529 \n",
      "\n",
      "                sum_sq    df         F    PR(>F)\n",
      "Intercept     2.565335   1.0  0.611235  0.438417\n",
      "region       81.823533   3.0  6.498623  0.000952\n",
      "unemployed   27.208254   1.0  6.482836  0.014386\n",
      "Residual    188.863557  45.0       NaN       NaN\n",
      "R^2 = 0.371 \n",
      "\n",
      "                  sum_sq    df          F    PR(>F)\n",
      "Intercept       5.373409   1.0   1.376204  0.246921\n",
      "region        100.101292   3.0   8.545773  0.000133\n",
      "metropolitan   40.368654   1.0  10.338969  0.002413\n",
      "Residual      175.703157  45.0        NaN       NaN\n",
      "R^2 = 0.454 \n",
      "\n"
     ]
    }
   ],
   "source": [
    "for key in double_var_models:\n",
    "    results = sm.stats.anova_lm(double_var_models[key], typ=3)\n",
    "    print(results)\n",
    "    # R^2 = (intercept + explanatory variable(s) SS) / total SS\n",
    "    # (total-error)/total -> 1 - error/total\n",
    "    r_squared = 1 - results[\"sum_sq\"][\"Residual\"]/results[\"sum_sq\"].sum()\n",
    "    print(\"R^2 =\", round(r_squared,3), \"\\n\")"
   ]
  },
  {
   "cell_type": "markdown",
   "id": "9ee92f01",
   "metadata": {},
   "source": [
    "The model with `single_parent` has the best $R^2$ of all of these candidates, so we'll see if that is significantly better than the current model with an $F$-test."
   ]
  },
  {
   "cell_type": "code",
   "execution_count": 32,
   "id": "dc07a8f8",
   "metadata": {},
   "outputs": [
    {
     "name": "stdout",
     "output_type": "stream",
     "text": [
      "   df_resid         ssr  df_diff    ss_diff          F    Pr(>F)\n",
      "0      46.0  216.071811      0.0        NaN        NaN       NaN\n",
      "1      45.0  132.915258      1.0  83.156553  28.153614  0.000003\n"
     ]
    }
   ],
   "source": [
    "print(sm.stats.anova_lm(present_model, double_var_models[\"single_parent\"], test=\"F\"))"
   ]
  },
  {
   "cell_type": "markdown",
   "id": "a37c3f29",
   "metadata": {},
   "source": [
    "It's definitely significant! Let's update our current model."
   ]
  },
  {
   "cell_type": "code",
   "execution_count": 33,
   "id": "ac084605",
   "metadata": {},
   "outputs": [],
   "source": [
    "present_model = double_var_models[\"single_parent\"]"
   ]
  },
  {
   "cell_type": "markdown",
   "id": "021f9bf0",
   "metadata": {},
   "source": [
    "Now let's make some 3-variable models and compare them to our current model."
   ]
  },
  {
   "cell_type": "code",
   "execution_count": 10,
   "id": "422b3fab",
   "metadata": {},
   "outputs": [],
   "source": [
    "triple_var_models = {\n",
    "    \"poverty\": ols('murder_rate ~ region + single_parent + poverty', data=dataset).fit(),\n",
    "    \"high_school\": ols('murder_rate ~ region + single_parent + high_school', data=dataset).fit(),\n",
    "    \"college\": ols('murder_rate ~ region + single_parent + college', data=dataset).fit(),\n",
    "    \"unemployed\": ols('murder_rate ~ region + single_parent + unemployed', data=dataset).fit(),\n",
    "    \"metropolitan\": ols('murder_rate ~ region + single_parent + metropolitan', data=dataset).fit(),\n",
    "}"
   ]
  },
  {
   "cell_type": "code",
   "execution_count": 34,
   "id": "61b4eeb1",
   "metadata": {},
   "outputs": [
    {
     "name": "stdout",
     "output_type": "stream",
     "text": [
      "                   sum_sq    df          F    PR(>F)\n",
      "Intercept       32.034172   1.0  10.636520  0.002145\n",
      "region          29.023053   3.0   3.212239  0.031921\n",
      "single_parent   66.460777   1.0  22.067416  0.000026\n",
      "poverty          0.399779   1.0   0.132741  0.717352\n",
      "Residual       132.515479  44.0        NaN       NaN\n",
      "R^2 = 0.491 \n",
      "\n",
      "                   sum_sq    df          F    PR(>F)\n",
      "Intercept        3.273886   1.0   1.179137  0.283445\n",
      "region          25.521452   3.0   3.063972  0.037742\n",
      "single_parent   52.507083   1.0  18.911177  0.000080\n",
      "high_school     10.748793   1.0   3.871332  0.055441\n",
      "Residual       122.166465  44.0        NaN       NaN\n",
      "R^2 = 0.43 \n",
      "\n",
      "                   sum_sq    df          F    PR(>F)\n",
      "Intercept       30.306274   1.0  10.377223  0.002402\n",
      "region          38.114550   3.0   4.350289  0.009074\n",
      "single_parent   87.541079   1.0  29.975090  0.000002\n",
      "college          4.414976   1.0   1.511739  0.225408\n",
      "Residual       128.500281  44.0        NaN       NaN\n",
      "R^2 = 0.555 \n",
      "\n",
      "                   sum_sq    df          F    PR(>F)\n",
      "Intercept       32.077563   1.0  10.743815  0.002048\n",
      "region          31.105930   3.0   3.472794  0.023827\n",
      "single_parent   57.493757   1.0  19.256521  0.000070\n",
      "unemployed       1.545457   1.0   0.517624  0.475661\n",
      "Residual       131.369800  44.0        NaN       NaN\n",
      "R^2 = 0.482 \n",
      "\n",
      "                   sum_sq    df          F    PR(>F)\n",
      "Intercept       43.065144   1.0  17.645199  0.000128\n",
      "region          44.824357   3.0   6.122002  0.001425\n",
      "single_parent   68.316079   1.0  27.991333  0.000004\n",
      "metropolitan    25.528179   1.0  10.459730  0.002317\n",
      "Residual       107.387079  44.0        NaN       NaN\n",
      "R^2 = 0.629 \n",
      "\n"
     ]
    }
   ],
   "source": [
    "for key in triple_var_models:\n",
    "    results = sm.stats.anova_lm(triple_var_models[key], typ=3)\n",
    "    print(results)\n",
    "    # R^2 = (intercept + explanatory variable(s) SS) / total SS\n",
    "    # (total-error)/total -> 1 - error/total\n",
    "    r_squared = 1 - results[\"sum_sq\"][\"Residual\"]/results[\"sum_sq\"].sum()\n",
    "    print(\"R^2 =\", round(r_squared,3), \"\\n\")"
   ]
  },
  {
   "cell_type": "markdown",
   "id": "0460a01e",
   "metadata": {},
   "source": [
    "`metropolitan` is far and away the variable that helps the model perform better, so let's see what the $F$-test says."
   ]
  },
  {
   "cell_type": "code",
   "execution_count": 35,
   "id": "836f2472",
   "metadata": {},
   "outputs": [
    {
     "name": "stdout",
     "output_type": "stream",
     "text": [
      "   df_resid         ssr  df_diff    ss_diff         F    Pr(>F)\n",
      "0      45.0  132.915258      0.0        NaN       NaN       NaN\n",
      "1      44.0  107.387079      1.0  25.528179  10.45973  0.002317\n"
     ]
    }
   ],
   "source": [
    "print(sm.stats.anova_lm(present_model, triple_var_models[\"metropolitan\"], test=\"F\"))"
   ]
  },
  {
   "cell_type": "markdown",
   "id": "2c5fc7fb",
   "metadata": {},
   "source": [
    "Definitely better! Let's update the model."
   ]
  },
  {
   "cell_type": "code",
   "execution_count": 36,
   "id": "88889c3d",
   "metadata": {},
   "outputs": [],
   "source": [
    "present_model = triple_var_models[\"metropolitan\"]"
   ]
  },
  {
   "cell_type": "markdown",
   "id": "6690b499",
   "metadata": {},
   "source": [
    "Onto a fourth variable and beyond with the same process. I'll keep going until the $F$-test result is insignificant (for this case, $p < 0.05$)."
   ]
  },
  {
   "cell_type": "code",
   "execution_count": 37,
   "id": "4bcbbeec",
   "metadata": {},
   "outputs": [],
   "source": [
    "four_var_models = {\n",
    "    \"poverty\": ols('murder_rate ~ region + single_parent + metropolitan + poverty', data=dataset).fit(),\n",
    "    \"high_school\": ols('murder_rate ~ region + single_parent + metropolitan + high_school', data=dataset).fit(),\n",
    "    \"college\": ols('murder_rate ~ region + single_parent + metropolitan + college', data=dataset).fit(),\n",
    "    \"unemployed\": ols('murder_rate ~ region + single_parent + metropolitan + unemployed', data=dataset).fit(),\n",
    "}"
   ]
  },
  {
   "cell_type": "code",
   "execution_count": 38,
   "id": "e00fd35a",
   "metadata": {},
   "outputs": [
    {
     "name": "stdout",
     "output_type": "stream",
     "text": [
      "                   sum_sq    df          F    PR(>F)\n",
      "Intercept       46.545953   1.0  19.668141  0.000063\n",
      "region          35.922544   3.0   5.059729  0.004331\n",
      "single_parent   40.590960   1.0  17.151840  0.000158\n",
      "metropolitan    30.753143   1.0  12.994839  0.000807\n",
      "poverty          5.624743   1.0   2.376753  0.130481\n",
      "Residual       101.762336  43.0        NaN       NaN\n",
      "R^2 = 0.61 \n",
      "\n",
      "                   sum_sq    df          F    PR(>F)\n",
      "Intercept        0.628138   1.0   0.266566  0.608290\n",
      "region          34.740765   3.0   4.914368  0.005045\n",
      "single_parent   47.174203   1.0  20.019542  0.000055\n",
      "metropolitan    20.840934   1.0   8.844367  0.004805\n",
      "high_school      6.061548   1.0   2.572368  0.116066\n",
      "Residual       101.325531  43.0        NaN       NaN\n",
      "R^2 = 0.519 \n",
      "\n",
      "                   sum_sq    df          F    PR(>F)\n",
      "Intercept       21.164969   1.0   8.478126  0.005677\n",
      "region          36.346582   3.0   4.853159  0.005381\n",
      "single_parent   61.419508   1.0  24.603028  0.000012\n",
      "metropolitan    21.154190   1.0   8.473808  0.005688\n",
      "college          0.040987   1.0   0.016418  0.898641\n",
      "Residual       107.346092  43.0        NaN       NaN\n",
      "R^2 = 0.566 \n",
      "\n",
      "                   sum_sq    df          F    PR(>F)\n",
      "Intercept       44.781281   1.0  18.764877  0.000087\n",
      "region          41.645058   3.0   5.816898  0.001986\n",
      "single_parent   39.214072   1.0  16.432028  0.000208\n",
      "metropolitan    28.752820   1.0  12.048408  0.001193\n",
      "unemployed       4.770098   1.0   1.998833  0.164620\n",
      "Residual       102.616981  43.0        NaN       NaN\n",
      "R^2 = 0.608 \n",
      "\n"
     ]
    }
   ],
   "source": [
    "for key in four_var_models:\n",
    "    results = sm.stats.anova_lm(four_var_models[key], typ=3)\n",
    "    print(results)\n",
    "    # R^2 = (intercept + explanatory variable(s) SS) / total SS\n",
    "    # (total-error)/total -> 1 - error/total\n",
    "    r_squared = 1 - results[\"sum_sq\"][\"Residual\"]/results[\"sum_sq\"].sum()\n",
    "    print(\"R^2 =\", round(r_squared,3), \"\\n\")"
   ]
  },
  {
   "cell_type": "code",
   "execution_count": 43,
   "id": "b66c6cc1",
   "metadata": {},
   "outputs": [
    {
     "name": "stdout",
     "output_type": "stream",
     "text": [
      "   df_resid         ssr  df_diff   ss_diff         F    Pr(>F)\n",
      "0      44.0  107.387079      0.0       NaN       NaN       NaN\n",
      "1      43.0  101.762336      1.0  5.624743  2.376753  0.130481\n"
     ]
    }
   ],
   "source": [
    "print(sm.stats.anova_lm(present_model, four_var_models[\"poverty\"], test=\"F\"))"
   ]
  },
  {
   "cell_type": "markdown",
   "id": "d119141a",
   "metadata": {},
   "source": [
    "Here we have an insignificant $p$-value, so I'll stop with three explanitory variables. \n",
    "\n",
    "So here is the model I got:\n",
    "$$\n",
    "murder.rate = -8.44 + -2.29 \\times Northwest + 0.51 \\times South + -0.24 \\times West + 0.47 \\times single.parent + 0.04 \\times metropolitan\n",
    "$$\n",
    "\n",
    "Below are the details of the model."
   ]
  },
  {
   "cell_type": "code",
   "execution_count": null,
   "id": "41d7924c",
   "metadata": {},
   "outputs": [],
   "source": [
    "print(present_model.summary())"
   ]
  }
 ],
 "metadata": {
  "kernelspec": {
   "display_name": "Python 3 (ipykernel)",
   "language": "python",
   "name": "python3"
  },
  "language_info": {
   "codemirror_mode": {
    "name": "ipython",
    "version": 3
   },
   "file_extension": ".py",
   "mimetype": "text/x-python",
   "name": "python",
   "nbconvert_exporter": "python",
   "pygments_lexer": "ipython3",
   "version": "3.8.9"
  }
 },
 "nbformat": 4,
 "nbformat_minor": 5
}
